{
 "cells": [
  {
   "cell_type": "code",
   "execution_count": 1,
   "metadata": {},
   "outputs": [],
   "source": [
    "import numpy as np\n",
    "import sympy as sp"
   ]
  },
  {
   "cell_type": "code",
   "execution_count": 2,
   "metadata": {},
   "outputs": [],
   "source": [
    "k1, k2 = sp.symbols('k1 k2')\n",
    "\n",
    "A_cl = sp.Matrix([[0,1],[1-k1,-k2]])\n",
    "\n",
    "B = sp.Matrix([[0],[1]])\n",
    "\n",
    "C = sp.Matrix([[1,0]])\n",
    "\n",
    "deno = -C @ A_cl.inv() @ B\n"
   ]
  },
  {
   "cell_type": "code",
   "execution_count": 3,
   "metadata": {},
   "outputs": [],
   "source": [
    "m1, m2, l1, l2, g = 0.5,1,8,8,10\n",
    "\n",
    "a = m1*l1**2+m2*l1**2\n",
    "b = m2*l2**2\n",
    "c = m2*l1*l2\n",
    "d = g*m1*l1 + g*m2*l1\n",
    "e = g*m2*l2\n",
    "\n",
    "\n",
    "def M(theta):\n",
    "    return sp.Matrix([[a+b+2*c*sp.cos(theta[1]), b+c*sp.cos(theta[1]) ],\n",
    "                      [b+c*sp.cos(theta[1]),b]])\n",
    "\n",
    "def C(theta, dtheta):\n",
    "    return sp.Matrix([[-c*sp.sin(theta[1])*dtheta[1], -c*sp.sin(theta[1])*(dtheta[0]+dtheta[1])],\n",
    "                      [c*sp.sin(theta[1])*dtheta[0], 0]])\n",
    "\n",
    "def G(theta):\n",
    "    return sp.Matrix([[-d*sp.sin(theta[0])-e*sp.sin(theta[0]+theta[1])],\n",
    "                      [-e*sp.sin(theta[0]+theta[1])]])\n",
    "\n",
    "\n",
    "theta1, theta2, dtheta1, dtheta2, t = sp.symbols(\"theta_1 theta_2 dtheta_1 dtheta_2 t\")\n",
    "zero_one  =sp.Matrix([[0],[1]])\n",
    "\n",
    "theta = sp.Matrix([theta1, theta2])\n",
    "dtheta = sp.Matrix([dtheta1, dtheta2])\n",
    "\n",
    "x  = sp.Matrix([theta1, theta2, dtheta1, dtheta2])\n",
    "tau = sp.symbols(\"tau\")\n"
   ]
  },
  {
   "cell_type": "code",
   "execution_count": 4,
   "metadata": {},
   "outputs": [],
   "source": [
    "import matplotlib.pyplot as plt"
   ]
  },
  {
   "cell_type": "code",
   "execution_count": 5,
   "metadata": {},
   "outputs": [
    {
     "data": {
      "text/plain": [
       "[<matplotlib.lines.Line2D at 0x7fd8e86826a0>]"
      ]
     },
     "execution_count": 5,
     "metadata": {},
     "output_type": "execute_result"
    },
    {
     "data": {
      "image/png": "[encoded data removed]",
      "text/plain": [
       "<Figure size 432x288 with 1 Axes>"
      ]
     },
     "metadata": {
      "needs_background": "light"
     },
     "output_type": "display_data"
    }
   ],
   "source": [
    "# p2 b\n",
    "\n",
    "t0 = np.linspace(-e,e,50)\n",
    "\n",
    "t1 = np.arcsin(t0/d)\n",
    "t2 = np.arcsin(-t0/e) - t1\n",
    "\n",
    "plt.xlabel(\"theta_1\")\n",
    "plt.ylabel(\"theta_2\")\n",
    "\n",
    "ax = plt.gca()\n",
    "ax.set_xlim([-np.pi,np.pi])\n",
    "ax.set_ylim([-np.pi, np.pi])\n",
    "\n",
    "plt.plot(t1,t2)"
   ]
  },
  {
   "cell_type": "code",
   "execution_count": 6,
   "metadata": {},
   "outputs": [],
   "source": [
    "# p2 c\n",
    "\n",
    "f2 = -M(theta).inv() @ (C(theta, dtheta) @ dtheta + G(theta))\n",
    "\n",
    "f = sp.Matrix([dtheta[0], dtheta[1], f2[0], f2[1]])\n",
    "\n",
    "# Compute Jacobian\n",
    "J = f.jacobian(x)\n",
    "\n",
    "J.simplify()\n",
    "J\n",
    "\n",
    "g = sp.Matrix([[0],[0], M(theta).inv() @ zero_one])\n",
    "\n"
   ]
  },
  {
   "cell_type": "code",
   "execution_count": 7,
   "metadata": {},
   "outputs": [
    {
     "data": {
      "text/plain": [
       "{-2.60995443992399: 1,\n",
       " -0.829540729271943: 1,\n",
       " 0.829540729271943: 1,\n",
       " 2.60995443992399: 1}"
      ]
     },
     "execution_count": 7,
     "metadata": {},
     "output_type": "execute_result"
    }
   ],
   "source": [
    "A_linear = J.subs({theta1: 0, theta2: 0, dtheta1:0,dtheta2:0})\n",
    "A_linear.eigenvals()"
   ]
  },
  {
   "cell_type": "code",
   "execution_count": 8,
   "metadata": {},
   "outputs": [
    {
     "data": {
      "text/latex": [
       "$\\displaystyle \\left[\\begin{matrix}0\\\\0\\\\-0.0625\\\\0.140625\\end{matrix}\\right]$"
      ],
      "text/plain": [
       "Matrix([\n",
       "[       0],\n",
       "[       0],\n",
       "[ -0.0625],\n",
       "[0.140625]])"
      ]
     },
     "execution_count": 8,
     "metadata": {},
     "output_type": "execute_result"
    }
   ],
   "source": [
    "B_linear = g.subs({theta1: 0, theta2: 0, dtheta1:0,dtheta2:0})\n",
    "\n",
    "g.subs({theta1: 0, theta2: 0, dtheta1:0,dtheta2:0})"
   ]
  },
  {
   "cell_type": "code",
   "execution_count": 9,
   "metadata": {},
   "outputs": [
    {
     "data": {
      "text/latex": [
       "$\\displaystyle -3.72529029846191 \\cdot 10^{-7}$"
      ],
      "text/plain": [
       "-3.72529029846191e-7"
      ]
     },
     "execution_count": 9,
     "metadata": {},
     "output_type": "execute_result"
    }
   ],
   "source": [
    "\n",
    "B = g.subs({theta1: 0, theta2: 0, dtheta1:0,dtheta2:0})\n",
    "\n",
    "\n",
    "Wr = sp.Matrix.hstack(\n",
    "    B, \n",
    "    A_linear * B, \n",
    "    A_linear**2 * B, \n",
    "    A_linear**3 * B\n",
    ")\n",
    "\n",
    "Wr.det()\n",
    "\n"
   ]
  },
  {
   "cell_type": "code",
   "execution_count": 10,
   "metadata": {},
   "outputs": [],
   "source": [
    "def get_det(theta):\n",
    "    A_l = J.subs({theta1: theta[0], theta2: theta[1], dtheta1:0,dtheta2:0})\n",
    "    B_e = g.subs({theta1: theta[0], theta2: theta[1], dtheta1:0,dtheta2:0})\n",
    "    Wr = sp.Matrix.hstack(\n",
    "    B_e, \n",
    "    A_l *  B_e, \n",
    "    A_l**2 *  B_e, \n",
    "    A_l**3 *  B_e \n",
    "    )\n",
    "    return Wr.det()\n",
    "\n",
    "dets = []\n",
    "for i in range(t2.shape[0]):\n",
    "    dets.append(get_det([t1[i],t2[i]]))"
   ]
  },
  {
   "cell_type": "code",
   "execution_count": 25,
   "metadata": {},
   "outputs": [
    {
     "data": {
      "text/latex": [
       "$\\displaystyle \\left[\\begin{matrix}0\\\\0\\\\-0.0625\\\\0.140625\\end{matrix}\\right]$"
      ],
      "text/plain": [
       "Matrix([\n",
       "[       0],\n",
       "[       0],\n",
       "[ -0.0625],\n",
       "[0.140625]])"
      ]
     },
     "execution_count": 25,
     "metadata": {},
     "output_type": "execute_result"
    },
    {
     "data": {
      "image/png": "[encoded data removed]",
      "text/plain": [
       "<Figure size 432x288 with 1 Axes>"
      ]
     },
     "metadata": {
      "needs_background": "light"
     },
     "output_type": "display_data"
    }
   ],
   "source": [
    "plt.xlabel(\"theta2\")\n",
    "plt.ylabel(\"det\")\n",
    "plt.plot(t2, dets)\n",
    "\n",
    "B_linear"
   ]
  },
  {
   "cell_type": "code",
   "execution_count": 28,
   "metadata": {},
   "outputs": [
    {
     "ename": "AttributeError",
     "evalue": "'numpy.ndarray' object has no attribute 'evalf'",
     "output_type": "error",
     "traceback": [
      "\u001b[0;31m---------------------------------------------------------------------------\u001b[0m",
      "\u001b[0;31mAttributeError\u001b[0m                            Traceback (most recent call last)",
      "Cell \u001b[0;32mIn[28], line 19\u001b[0m\n\u001b[1;32m     11\u001b[0m \u001b[38;5;66;03m# Desired eigenvalues (all with negative real parts)\u001b[39;00m\n\u001b[1;32m     12\u001b[0m desired_poles \u001b[38;5;241m=\u001b[39m [\n\u001b[1;32m     13\u001b[0m     \u001b[38;5;241m-\u001b[39m\u001b[38;5;241m0.1\u001b[39m,\n\u001b[1;32m     14\u001b[0m     \u001b[38;5;241m-\u001b[39m\u001b[38;5;241m0.2\u001b[39m,\n\u001b[1;32m     15\u001b[0m     \u001b[38;5;241m-\u001b[39m\u001b[38;5;241m0.4\u001b[39m,\n\u001b[1;32m     16\u001b[0m     \u001b[38;5;241m-\u001b[39m\u001b[38;5;241m0.3\u001b[39m,\n\u001b[1;32m     17\u001b[0m ]\n\u001b[0;32m---> 19\u001b[0m A_linear \u001b[38;5;241m=\u001b[39m np\u001b[38;5;241m.\u001b[39marray(\u001b[43mA_linear\u001b[49m\u001b[38;5;241;43m.\u001b[39;49m\u001b[43mevalf\u001b[49m())\u001b[38;5;241m.\u001b[39mastype(np\u001b[38;5;241m.\u001b[39mfloat64)\n\u001b[1;32m     20\u001b[0m B_linear \u001b[38;5;241m=\u001b[39m np\u001b[38;5;241m.\u001b[39marray(B_linear\u001b[38;5;241m.\u001b[39mevalf())\u001b[38;5;241m.\u001b[39mastype(np\u001b[38;5;241m.\u001b[39mfloat64)\n\u001b[1;32m     21\u001b[0m \u001b[38;5;66;03m# Check controllability\u001b[39;00m\n",
      "\u001b[0;31mAttributeError\u001b[0m: 'numpy.ndarray' object has no attribute 'evalf'"
     ]
    }
   ],
   "source": [
    "k1,k2,k3,k4 = sp.symbols(\"k_1 k_2 k_3 k_4\")\n",
    "K  = sp.Matrix([k1,k2,k3,k4]).T\n",
    "\n",
    "Ap = A_linear - B_linear @ K \n",
    "s = sp.symbols('s')\n",
    "\n",
    "# Compute the characteristic polynomial\n",
    "char_poly = Ap.charpoly(s)\n",
    "import control\n",
    "\n",
    "# Desired eigenvalues (all with negative real parts)\n",
    "desired_poles = [\n",
    "    -0.1,\n",
    "    -0.2,\n",
    "    -0.4,\n",
    "    -0.3,\n",
    "]\n",
    "\n",
    "A_linear = np.array(A_linear.evalf()).astype(np.float64)\n",
    "B_linear = np.array(B_linear.evalf()).astype(np.float64)\n",
    "# Check controllability\n",
    "ctrb_matrix = control.ctrb(A_linear, B_linear)\n",
    "rank = np.linalg.matrix_rank(ctrb_matrix)\n",
    "if rank < A_linear.shape[0]:\n",
    "    print(\"The system is not controllable and pole placement may not be possible.\")\n",
    "else:\n",
    "    # Compute the gain matrix K\n",
    "    K = control.place(A_linear,B_linear, desired_poles)\n",
    "    print(\"Gain Matrix K:\")\n",
    "    print(K)\n",
    "\n",
    "    # Verify the closed-loop eigenvalues\n",
    "    A_p = A_linear - B_linear @ K\n",
    "    closed_loop_eigenvalues = np.linalg.eigvals(A_p)\n",
    "    print(\"\\nClosed-Loop Eigenvalues:\")\n",
    "    print(closed_loop_eigenvalues)"
   ]
  },
  {
   "cell_type": "code",
   "execution_count": 57,
   "metadata": {},
   "outputs": [
    {
     "data": {
      "text/plain": [
       "[<matplotlib.lines.Line2D at 0x7fd8ea2889a0>]"
      ]
     },
     "execution_count": 57,
     "metadata": {},
     "output_type": "execute_result"
    },
    {
     "data": {
      "image/png": "[encoded data removed]",
      "text/plain": [
       "<Figure size 432x288 with 1 Axes>"
      ]
     },
     "metadata": {
      "needs_background": "light"
     },
     "output_type": "display_data"
    }
   ],
   "source": [
    "K  = sp.Matrix([-4000,7000, 100, 100])\n",
    "\n",
    "tau = - K.T @ x\n",
    "\n",
    "xdot  = f + g @ tau\n",
    "\n",
    "time  = np.linspace(0,2,200)\n",
    "delta_t = time[1] - time[0]\n",
    "\n",
    "x_ls = [[0.1,0,0,0]]\n",
    "\n",
    "for i in range(len(time) - 1):\n",
    "    current_state = x_ls[i]\n",
    "    #print(f\"Time {time[i]:.2f}s: {current_state}\")\n",
    "    \n",
    "    derivatives = xdot.subs({\n",
    "        theta1: current_state[0],\n",
    "        theta2: current_state[1],\n",
    "        dtheta1: current_state[2],\n",
    "        dtheta2: current_state[3]\n",
    "    })\n",
    "    \n",
    "    derivatives = [float(expr) for expr in derivatives]\n",
    "\n",
    "    #  Euler's method\n",
    "    next_state = [\n",
    "        current_state[j] + derivatives[j] * delta_t for j in range(len(current_state))\n",
    "    ]\n",
    "    \n",
    "    x_ls.append(next_state)\n",
    "\n",
    "x_ls= np.array(x_ls)\n",
    "\n",
    "theta2_nl = x_ls[:,1]\n",
    "\n",
    "plt.plot(time,theta2_nl)\n",
    "\n",
    "theta1_nl = x_ls[:,0]\n",
    "\n",
    "plt.plot(time,theta1_nl)"
   ]
  },
  {
   "cell_type": "code",
   "execution_count": null,
   "metadata": {},
   "outputs": [],
   "source": []
  },
  {
   "cell_type": "code",
   "execution_count": null,
   "metadata": {},
   "outputs": [],
   "source": []
  }
 ],
 "metadata": {
  "kernelspec": {
   "display_name": "base",
   "language": "python",
   "name": "python3"
  },
  "language_info": {
   "codemirror_mode": {
    "name": "ipython",
    "version": 3
   },
   "file_extension": ".py",
   "mimetype": "text/x-python",
   "name": "python",
   "nbconvert_exporter": "python",
   "pygments_lexer": "ipython3",
   "version": "3.8.8"
  }
 },
 "nbformat": 4,
 "nbformat_minor": 2
}
