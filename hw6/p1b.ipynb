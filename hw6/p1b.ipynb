{
 "cells": [
  {
   "cell_type": "code",
   "execution_count": 2,
   "metadata": {},
   "outputs": [],
   "source": [
    "import numpy as np\n",
    "import matplotlib.pyplot as plt\n",
    "import sympy as sp"
   ]
  },
  {
   "cell_type": "code",
   "execution_count": 6,
   "metadata": {},
   "outputs": [
    {
     "data": {
      "text/latex": [
       "$\\displaystyle \\left[\\begin{matrix}0 & 1 & 0 & 0\\\\0 & - \\frac{C_{y}}{m v^{B}_{x}} & \\frac{C_{y}}{m} & 0\\\\0 & 0 & 0 & 1\\\\0 & 0 & 0 & - \\frac{C_{y} L^{2}}{2 I_{z} v^{B}_{x}}\\end{matrix}\\right]$"
      ],
      "text/plain": [
       "Matrix([\n",
       "[0,              1,     0,                       0],\n",
       "[0, -C_y/(m*v^B_x), C_y/m,                       0],\n",
       "[0,              0,     0,                       1],\n",
       "[0,              0,     0, -C_y*L**2/(2*I_z*v^B_x)]])"
      ]
     },
     "execution_count": 6,
     "metadata": {},
     "output_type": "execute_result"
    }
   ],
   "source": [
    "C_y, m, v_B_x, L, I_z = sp.symbols('C_y m v^B_x L I_z')\n",
    "\n",
    "A  = sp.Matrix([[0, 1, 0, 0],\n",
    "                [0, -C_y/(m*v_B_x),C_y/m, 0],\n",
    "                [0, 0, 0, 1],\n",
    "                [0, 0, 0, -C_y*L**2/(2*I_z*v_B_x)]])\n",
    "\n",
    "A"
   ]
  },
  {
   "cell_type": "code",
   "execution_count": 7,
   "metadata": {},
   "outputs": [
    {
     "data": {
      "text/latex": [
       "$\\displaystyle \\left[\\begin{matrix}0\\\\\\frac{C_{y}}{m}\\\\0\\\\\\frac{C_{y} L}{2 I_{z}}\\end{matrix}\\right]$"
      ],
      "text/plain": [
       "Matrix([\n",
       "[            0],\n",
       "[        C_y/m],\n",
       "[            0],\n",
       "[C_y*L/(2*I_z)]])"
      ]
     },
     "execution_count": 7,
     "metadata": {},
     "output_type": "execute_result"
    }
   ],
   "source": [
    "B  = sp.Matrix([[0],\n",
    "                [C_y/m],\n",
    "                [0],\n",
    "                [C_y*L/(2*I_z)]])\n",
    "B"
   ]
  },
  {
   "cell_type": "code",
   "execution_count": 8,
   "metadata": {},
   "outputs": [
    {
     "data": {
      "text/plain": [
       "4"
      ]
     },
     "execution_count": 8,
     "metadata": {},
     "output_type": "execute_result"
    }
   ],
   "source": [
    "Wr = sp.Matrix.hstack(B, A@B, A@A@B, A@A@A@B)\n",
    "\n",
    "Wr.rank()"
   ]
  },
  {
   "cell_type": "code",
   "execution_count": 16,
   "metadata": {},
   "outputs": [
    {
     "data": {
      "text/plain": [
       "array([[  0.        ,   1.        ,   0.        ,   0.        ],\n",
       "       [  0.        ,  -8.69565217,   8.69565217,   0.        ],\n",
       "       [  0.        ,   0.        ,   0.        ,   1.        ],\n",
       "       [  0.        ,   0.        ,   0.        , -16.        ]])"
      ]
     },
     "execution_count": 16,
     "metadata": {},
     "output_type": "execute_result"
    }
   ],
   "source": [
    "# LQR Parameters for p1d\n",
    "params = {\n",
    "            \"tau\": 0.1,\n",
    "            'L': 0.4,\n",
    "            'Cy': 100,\n",
    "            'mass': 11.5,\n",
    "            'Iz': 0.5,\n",
    "}\n",
    "\n",
    "A = A.subs({v_B_x:1,C_y: params['Cy'], m: params['mass'], L: params['L'], I_z: params['Iz']})\n",
    "A_np = np.array(A).astype(np.float64)\n",
    "\n",
    "A_np"
   ]
  },
  {
   "cell_type": "code",
   "execution_count": null,
   "metadata": {},
   "outputs": [],
   "source": []
  },
  {
   "cell_type": "code",
   "execution_count": null,
   "metadata": {},
   "outputs": [],
   "source": []
  }
 ],
 "metadata": {
  "kernelspec": {
   "display_name": "base",
   "language": "python",
   "name": "python3"
  },
  "language_info": {
   "codemirror_mode": {
    "name": "ipython",
    "version": 3
   },
   "file_extension": ".py",
   "mimetype": "text/x-python",
   "name": "python",
   "nbconvert_exporter": "python",
   "pygments_lexer": "ipython3",
   "version": "3.8.8"
  }
 },
 "nbformat": 4,
 "nbformat_minor": 2
}
